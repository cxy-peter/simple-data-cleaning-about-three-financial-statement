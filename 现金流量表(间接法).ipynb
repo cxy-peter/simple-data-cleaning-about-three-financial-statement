{
 "cells": [
  {
   "cell_type": "code",
   "execution_count": 1,
   "id": "6c8dfe5a",
   "metadata": {},
   "outputs": [],
   "source": [
    "import warnings\n",
    "warnings.filterwarnings(\"ignore\", message=\"Workbook contains no default style, apply openpyxl's default\")"
   ]
  },
  {
   "cell_type": "code",
   "execution_count": 3,
   "id": "22617610",
   "metadata": {},
   "outputs": [
    {
     "name": "stdout",
     "output_type": "stream",
     "text": [
      "所有数据已汇总并保存到 C:/Users/cxy/OneDrive/桌面/回国/国际金融/现金流量表(间接法).xlsx\n"
     ]
    }
   ],
   "source": [
    "import os\n",
    "import pandas as pd\n",
    "\n",
    "base_path = 'C:/Users/cxy/OneDrive/桌面/回国/国际金融/示例'\n",
    "year_columns = ['2018-12-31', '2019-12-31', '2020-12-31', '2021-12-31', '2022-12-31', '2023-12-31']\n",
    "\n",
    "# 用于存储所有数据的列表\n",
    "all_data = []\n",
    "for root, dirs, files in os.walk(base_path):\n",
    "    for file in files:\n",
    "        if '现金流量表（间接法）' in file and file.endswith('.xlsx'):\n",
    "            company_code = file.split('-')[0]\n",
    "            file_path = os.path.join(root, file)\n",
    "            df = pd.read_excel(file_path)\n",
    "            zcjz_row = df[df['项目名称(单位:元)'].str.contains(r'\\s*资产减值准备', regex=True, na=False)]\n",
    "            zcjz_selected_years = zcjz_row[year_columns]\n",
    "            gdzczj_row = df[df['项目名称(单位:元)'].str.contains(r'\\s*固定资产折旧、油气资产折耗、生产性生物资产折旧', regex=True, na=False)]\n",
    "            gdzczj_selected_years = gdzczj_row[year_columns]\n",
    "            wxzctx_row = df[df['项目名称(单位:元)'].str.contains(r'\\s*无形资产摊销', regex=True, na=False)]\n",
    "            wxzctx_selected_years = wxzctx_row[year_columns]\n",
    "            for year in year_columns:\n",
    "                all_data.append({\n",
    "                    '公司代码': company_code,\n",
    "                    '日期': year,\n",
    "                    '资产减值准备': zcjz_selected_years[year].values[0] if not zcjz_selected_years[year].empty else None,\n",
    "                    '固定资产折旧、油气资产折耗、生产性生物资产折旧': gdzczj_selected_years[year].values[0] if not gdzczj_selected_years[year].empty else None,\n",
    "                    '无形资产摊销': wxzctx_selected_years[year].values[0] if not wxzctx_selected_years[year].empty else None\n",
    "                })\n",
    "\n",
    "# 将所有数据合并成一个DataFrame\n",
    "combined_data = pd.DataFrame(all_data)\n",
    "            \n",
    "\n",
    "# 将所有数据合并成一个DataFrame\n",
    "#combined_data = pd.concat(all_data)\n",
    "\n",
    "# 设置输出路径\n",
    "output_path = 'C:/Users/cxy/OneDrive/桌面/回国/国际金融/现金流量表(间接法).xlsx'\n",
    "combined_data.to_excel(output_path)\n",
    "print(f\"所有数据已汇总并保存到 {output_path}\")"
   ]
  },
  {
   "cell_type": "code",
   "execution_count": null,
   "id": "3f6f4ca6",
   "metadata": {},
   "outputs": [],
   "source": []
  },
  {
   "cell_type": "code",
   "execution_count": null,
   "id": "18532b84",
   "metadata": {},
   "outputs": [],
   "source": []
  }
 ],
 "metadata": {
  "kernelspec": {
   "display_name": "Python 3 (ipykernel)",
   "language": "python",
   "name": "python3"
  },
  "language_info": {
   "codemirror_mode": {
    "name": "ipython",
    "version": 3
   },
   "file_extension": ".py",
   "mimetype": "text/x-python",
   "name": "python",
   "nbconvert_exporter": "python",
   "pygments_lexer": "ipython3",
   "version": "3.9.13"
  }
 },
 "nbformat": 4,
 "nbformat_minor": 5
}
