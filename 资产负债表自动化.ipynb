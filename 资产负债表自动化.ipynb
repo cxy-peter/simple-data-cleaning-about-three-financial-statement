{
 "cells": [
  {
   "cell_type": "code",
   "execution_count": 38,
   "id": "4e1ca8eb",
   "metadata": {},
   "outputs": [
    {
     "name": "stdout",
     "output_type": "stream",
     "text": [
      "所有数据已汇总并保存到 C:/Users/cxy/OneDrive/桌面/回国/国际金融/资产负债表.xlsx\n"
     ]
    }
   ],
   "source": [
    "import os\n",
    "import pandas as pd\n",
    "\n",
    "base_path = 'C:/Users/cxy/OneDrive/桌面/回国/国际金融/示例'\n",
    "year_columns = ['2018-12-31', '2019-12-31', '2020-12-31', '2021-12-31', '2022-12-31', '2023-12-31']\n",
    "\n",
    "# 用于存储所有数据的列表\n",
    "all_data = []\n",
    "for root, dirs, files in os.walk(base_path):\n",
    "    for file in files:\n",
    "        if '资产负债表_资产负债表' in file and file.endswith('.xlsx'):\n",
    "            company_code = file.split('-')[0]\n",
    "            file_path = os.path.join(root, file)\n",
    "            df = pd.read_excel(file_path)\n",
    "            gdzc_row = df[df['项目名称(单位:元)'].str.contains(r'\\s*固定资产净额', regex=True, na=False)]\n",
    "            gdzc_selected_years = gdzc_row[year_columns]\n",
    "            wxzc_row = df[df['项目名称(单位:元)'].str.contains(r'\\s*无形资产净额', regex=True, na=False)]\n",
    "            wxzc_selected_years = wxzc_row[year_columns]\n",
    "            zchj_row = df[df['项目名称(单位:元)'].str.contains(r'^\\s*资产合计\\s*$', regex=True, na=False)]\n",
    "            zchj_selected_years = zchj_row[year_columns]\n",
    "            yfzgxc_row = df[df['项目名称(单位:元)'].str.contains(r'\\s*应付职工薪酬', regex=True, na=False)]\n",
    "            yfzgxc_selected_years = yfzgxc_row[year_columns]\n",
    "            syzqyhj_row = df[df['项目名称(单位:元)'].str.contains(r'^\\s*所有者权益合计\\s*$', regex=True, na=False)]\n",
    "            syzqyhj_selected_years = syzqyhj_row[year_columns]\n",
    "            for year in year_columns:\n",
    "                all_data.append({\n",
    "                    '公司代码': company_code,\n",
    "                    '日期': year,\n",
    "                    '固定资产净额': gdzc_selected_years[year].values[0] if not gdzc_selected_years[year].empty else None,\n",
    "                    '无形资产净额': wxzc_selected_years[year].values[0] if not wxzc_selected_years[year].empty else None,\n",
    "                    '资产合计': zchj_selected_years[year].values[0] if not zchj_selected_years[year].empty else None,\n",
    "                    '应付职工薪酬': yfzgxc_selected_years[year].values[0] if not yfzgxc_selected_years[year].empty else None,\n",
    "                    '所有者权益合计': syzqyhj_selected_years[year].values[0] if not syzqyhj_selected_years[year].empty else None\n",
    "                })\n",
    "\n",
    "# 将所有数据合并成一个DataFrame\n",
    "combined_data = pd.DataFrame(all_data)\n",
    "            \n",
    "\n",
    "# 将所有数据合并成一个DataFrame\n",
    "#combined_data = pd.concat(all_data)\n",
    "\n",
    "# 设置输出路径\n",
    "output_path = 'C:/Users/cxy/OneDrive/桌面/回国/国际金融/资产负债表.xlsx'\n",
    "combined_data.to_excel(output_path)\n",
    "print(f\"所有数据已汇总并保存到 {output_path}\")"
   ]
  },
  {
   "cell_type": "code",
   "execution_count": null,
   "id": "2970f0dd",
   "metadata": {},
   "outputs": [],
   "source": []
  }
 ],
 "metadata": {
  "kernelspec": {
   "display_name": "Python 3 (ipykernel)",
   "language": "python",
   "name": "python3"
  },
  "language_info": {
   "codemirror_mode": {
    "name": "ipython",
    "version": 3
   },
   "file_extension": ".py",
   "mimetype": "text/x-python",
   "name": "python",
   "nbconvert_exporter": "python",
   "pygments_lexer": "ipython3",
   "version": "3.9.13"
  }
 },
 "nbformat": 4,
 "nbformat_minor": 5
}
