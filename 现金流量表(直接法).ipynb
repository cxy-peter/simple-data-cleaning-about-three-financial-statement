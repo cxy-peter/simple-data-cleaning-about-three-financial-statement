{
 "cells": [
  {
   "cell_type": "code",
   "execution_count": 2,
   "id": "cd15ec57",
   "metadata": {},
   "outputs": [],
   "source": [
    "import warnings\n",
    "warnings.filterwarnings(\"ignore\", message=\"Workbook contains no default style, apply openpyxl's default\")"
   ]
  },
  {
   "cell_type": "code",
   "execution_count": 1,
   "id": "326b1308",
   "metadata": {},
   "outputs": [
    {
     "name": "stdout",
     "output_type": "stream",
     "text": [
      "所有数据已汇总并保存到 C:/Users/cxy/OneDrive/桌面/回国/国际金融/现金流量表(直接法).xlsx\n"
     ]
    },
    {
     "name": "stderr",
     "output_type": "stream",
     "text": [
      "D:\\anaconda\\lib\\site-packages\\openpyxl\\styles\\stylesheet.py:226: UserWarning: Workbook contains no default style, apply openpyxl's default\n",
      "  warn(\"Workbook contains no default style, apply openpyxl's default\")\n",
      "D:\\anaconda\\lib\\site-packages\\openpyxl\\styles\\stylesheet.py:226: UserWarning: Workbook contains no default style, apply openpyxl's default\n",
      "  warn(\"Workbook contains no default style, apply openpyxl's default\")\n",
      "D:\\anaconda\\lib\\site-packages\\openpyxl\\styles\\stylesheet.py:226: UserWarning: Workbook contains no default style, apply openpyxl's default\n",
      "  warn(\"Workbook contains no default style, apply openpyxl's default\")\n",
      "D:\\anaconda\\lib\\site-packages\\openpyxl\\styles\\stylesheet.py:226: UserWarning: Workbook contains no default style, apply openpyxl's default\n",
      "  warn(\"Workbook contains no default style, apply openpyxl's default\")\n",
      "D:\\anaconda\\lib\\site-packages\\openpyxl\\styles\\stylesheet.py:226: UserWarning: Workbook contains no default style, apply openpyxl's default\n",
      "  warn(\"Workbook contains no default style, apply openpyxl's default\")\n"
     ]
    }
   ],
   "source": [
    "import os\n",
    "import pandas as pd\n",
    "\n",
    "base_path = 'C:/Users/cxy/OneDrive/桌面/回国/国际金融/示例'\n",
    "year_columns = ['2018-12-31', '2019-12-31', '2020-12-31', '2021-12-31', '2022-12-31', '2023-12-31']\n",
    "\n",
    "# 用于存储所有数据的列表\n",
    "all_data = []\n",
    "for root, dirs, files in os.walk(base_path):\n",
    "    for file in files:\n",
    "        if '现金流量表（直接法）' in file and file.endswith('.xlsx'):\n",
    "            company_code = file.split('-')[0]\n",
    "            file_path = os.path.join(root, file)\n",
    "            df = pd.read_excel(file_path)\n",
    "            jyhd_row = df[df['项目名称(单位:元)'].str.contains(r'\\s*经营活动现金流入小计', regex=True, na=False)]\n",
    "            jyhd_selected_years = jyhd_row[year_columns]\n",
    "            gmsp_row = df[df['项目名称(单位:元)'].str.contains(r'\\s*购买商品、接受劳务支付的现金', regex=True, na=False)]\n",
    "            gmsp_selected_years = gmsp_row[year_columns]\n",
    "            zfgzg_row = df[df['项目名称(单位:元)'].str.contains(r'\\s*支付给职工以及为职工支付的现金', regex=True, na=False)]\n",
    "            zfgzg_selected_years = zfgzg_row[year_columns]\n",
    "            for year in year_columns:\n",
    "                all_data.append({\n",
    "                    '公司代码': company_code,\n",
    "                    '日期': year,\n",
    "                    '经营活动现金流入小计': jyhd_selected_years[year].values[0] if not jyhd_selected_years[year].empty else None,\n",
    "                    '购买商品、接受劳务支付的现金': gmsp_selected_years[year].values[0] if not gmsp_selected_years[year].empty else None,\n",
    "                    '支付给职工以及为职工支付的现金': zfgzg_selected_years[year].values[0] if not zfgzg_selected_years[year].empty else None\n",
    "                })\n",
    "\n",
    "# 将所有数据合并成一个DataFrame\n",
    "combined_data = pd.DataFrame(all_data)\n",
    "            \n",
    "\n",
    "# 将所有数据合并成一个DataFrame\n",
    "#combined_data = pd.concat(all_data)\n",
    "\n",
    "# 设置输出路径\n",
    "output_path = 'C:/Users/cxy/OneDrive/桌面/回国/国际金融/现金流量表(直接法).xlsx'\n",
    "combined_data.to_excel(output_path)\n",
    "print(f\"所有数据已汇总并保存到 {output_path}\")"
   ]
  },
  {
   "cell_type": "code",
   "execution_count": null,
   "id": "ac452ba5",
   "metadata": {},
   "outputs": [],
   "source": []
  }
 ],
 "metadata": {
  "kernelspec": {
   "display_name": "Python 3 (ipykernel)",
   "language": "python",
   "name": "python3"
  },
  "language_info": {
   "codemirror_mode": {
    "name": "ipython",
    "version": 3
   },
   "file_extension": ".py",
   "mimetype": "text/x-python",
   "name": "python",
   "nbconvert_exporter": "python",
   "pygments_lexer": "ipython3",
   "version": "3.9.13"
  }
 },
 "nbformat": 4,
 "nbformat_minor": 5
}
